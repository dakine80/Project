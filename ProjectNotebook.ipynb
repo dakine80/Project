{
 "cells": [
  {
   "cell_type": "markdown",
   "metadata": {},
   "source": [
    "# Project Description"
   ]
  },
  {
   "cell_type": "markdown",
   "metadata": {},
   "source": [
    "The goal of my project is to create an electronic Help Monitor (I gave the monitor the name 'Dallon') within the Seattle-Tacoma International Airport through the use of an interactive chatbot. The Help Monitor is designed to be used once you get pass security and are in a terminal within the airport. The user is presented with 5 different questions associated with different subsets of information - terminal and gate of flight, departure time of flight, duration of flight, departure time of delayed flight, and restaurants within the terminal of your flight. To access the first 4 subsets of information presented from top to bottom on the monitor, users must input their flight number (which can be theoretically accessed through their flight ticket and is found in a list in my code). To access the subset of information from the 5th option, users must input their terminal (a capital letter which can be found by using the first option and through a list in my code).\n",
    "\n",
    "Terminal and gate of flight are outputted together as the numbers associated with the gates are mostly the same within each terminal, so you need to have a terminal associated with the gate number to know where to go specifically. If you use the departure time option and your flight is delayed, you will be directed to the delayed time option where you can see your new departure time. This Help Monitor is designed to be a simple way to access useful information. Please run the code to access the chatbot!\n",
    "\n",
    "Note: Terminals and gates are consistent with the actual Seattle-Tacoma International Airport, but the restaurants are not. "
   ]
  },
  {
   "cell_type": "markdown",
   "metadata": {},
   "source": [
    "## Project Code\n",
    "\n",
    "If it makes sense for your project, you can have code and outputs here in the notebook as well."
   ]
  },
  {
   "cell_type": "code",
   "execution_count": null,
   "metadata": {},
   "outputs": [],
   "source": [
    "#This Project is available on GitHub"
   ]
  },
  {
   "cell_type": "code",
   "execution_count": 1,
   "metadata": {},
   "outputs": [],
   "source": [
    "from my_module.functions import find_gate_num, find_departure_time, find_flight_duration, find_delayed_departure_time, find_restaurants"
   ]
  },
  {
   "cell_type": "code",
   "execution_count": 2,
   "metadata": {},
   "outputs": [],
   "source": [
    "# The 5 different options that are displayed on the monitor\n",
    "\n",
    "option_1 = \"What is my terminal and gate number?\"\n",
    "option_2 = \"What time does my flight leave?\"\n",
    "option_3 = \"What is the duration of my flight?\"\n",
    "option_4 = \"What time does my delayed flight leave?\"\n",
    "option_5 = \"What restaurants are within my terminal?\""
   ]
  },
  {
   "cell_type": "code",
   "execution_count": 3,
   "metadata": {},
   "outputs": [],
   "source": [
    "# List of all the flight numbers used in my first 4 functions\n",
    "\n",
    "flight_list = [100, 110, 120, 130, 140, 150, 160, 170, 180, 190, 200, 210]"
   ]
  },
  {
   "cell_type": "code",
   "execution_count": 4,
   "metadata": {},
   "outputs": [],
   "source": [
    "# List of all the terminals used in my function associated with option_5\n",
    "\n",
    "terminal_list = ['A', 'B', 'C', 'D', 'N', 'S']"
   ]
  },
  {
   "cell_type": "code",
   "execution_count": null,
   "metadata": {},
   "outputs": [
    {
     "name": "stdout",
     "output_type": "stream",
     "text": [
      "Hello! Welcome to the Seattle-Tacoma International Airport. My name is Dallon. Please choose a number from the list of options below.\n",
      "1. What is my terminal and gate number?\n",
      "2. What time does my flight leave?\n",
      "3. What is the duration of my flight?\n",
      "4. What time does my delayed flight leave?\n",
      "5. What restaurants are within my terminal?\n",
      "\n"
     ]
    }
   ],
   "source": [
    "#Initial message that the help monitor conveys to the user\n",
    "print(\"Hello! Welcome to the Seattle-Tacoma International Airport. My name is Dallon. Please choose a number from the list of options below.\")\n",
    "\n",
    "# Boolean used in conditional to succesfully help the user\n",
    "succesfully_helped = False\n",
    "\n",
    "# Conditional for the help monitor to run until successfully helped. Iterates through first input by the user.\n",
    "while succesfully_helped is not True:\n",
    "    print(\"1. \" + option_1)\n",
    "    print(\"2. \" + option_2)\n",
    "    print(\"3. \" + option_3)\n",
    "    print(\"4. \" + option_4)\n",
    "    print(\"5. \" + option_5 + \"\\n\")\n",
    "    options = input()\n",
    "    if options == \"1\":\n",
    "        print(\"\\nYou selected option 1. \" + option_1)\n",
    "        flight_num = input(\"Please enter your 3-digit flight number which can be found on your flight ticket.\" + \"\\n\")\n",
    "        find_gate_num(flight_num)\n",
    "        \n",
    "    elif options == \"2\":\n",
    "        print(\"\\nYou selected option 2. \" + option_2)\n",
    "        flight_num = input(\"Please enter your 3-digit flight number which can be found on your flight ticket.\" + \"\\n\")\n",
    "        find_departure_time(flight_num)\n",
    "        \n",
    "    elif options == \"3\":\n",
    "        print(\"\\nYou selected option 3. \" + option_3)\n",
    "        flight_num = input(\"Please enter your 3-digit flight number which can be found on your flight ticket.\" + \"\\n\")\n",
    "        find_flight_duration(flight_num)\n",
    "        \n",
    "    elif options == \"4\":\n",
    "        print(\"\\nYou selected option 4. \" + option_4)\n",
    "        flight_num = input(\"Please enter your 3-digit flight number which can be found on your flight ticket.\" + \"\\n\")\n",
    "        find_delayed_departure_time(flight_num)\n",
    "        \n",
    "    elif options == \"5\":\n",
    "        print(\"\\nYou selected option 5. \" + option_5)\n",
    "        terminal = input(\"Please enter the terminal that your flight is within.\" + \"\\n\")\n",
    "        find_restaurants(terminal)\n",
    "        \n",
    "    else:\n",
    "        print(\"\\nSorry, that is not an available option. Please enter 1, 2, 3, 4, or 5.\\n\")"
   ]
  },
  {
   "cell_type": "code",
   "execution_count": null,
   "metadata": {},
   "outputs": [],
   "source": []
  }
 ],
 "metadata": {
  "kernelspec": {
   "display_name": "Python 3",
   "language": "python",
   "name": "python3"
  },
  "language_info": {
   "codemirror_mode": {
    "name": "ipython",
    "version": 3
   },
   "file_extension": ".py",
   "mimetype": "text/x-python",
   "name": "python",
   "nbconvert_exporter": "python",
   "pygments_lexer": "ipython3",
   "version": "3.7.0"
  }
 },
 "nbformat": 4,
 "nbformat_minor": 2
}
